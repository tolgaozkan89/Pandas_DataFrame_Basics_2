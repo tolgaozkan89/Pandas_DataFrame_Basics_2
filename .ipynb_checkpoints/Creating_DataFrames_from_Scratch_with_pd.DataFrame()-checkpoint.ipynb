{
 "cells": [
  {
   "cell_type": "markdown",
   "metadata": {},
   "source": [
    "# Creating_DataFrames_from_Scratch_with_pd.DataFrame()"
   ]
  },
  {
   "cell_type": "markdown",
   "metadata": {},
   "source": [
    "##  ----  Quick Summary ----"
   ]
  },
  {
   "cell_type": "markdown",
   "metadata": {},
   "source": [
    "### Add a new column\n",
    "### titanic[\"Zeros\"] = 0\n",
    "### titanic.ones = 0 gives an error\n",
    "---"
   ]
  },
  {
   "cell_type": "markdown",
   "metadata": {},
   "source": [
    "# PART1: creating own DATASET"
   ]
  },
  {
   "cell_type": "code",
   "execution_count": 1,
   "metadata": {},
   "outputs": [],
   "source": [
    "import pandas as pd"
   ]
  },
  {
   "cell_type": "markdown",
   "metadata": {},
   "source": [
    "## Having columns in place"
   ]
  },
  {
   "cell_type": "code",
   "execution_count": 2,
   "metadata": {},
   "outputs": [],
   "source": [
    "player = [\"Lionel Messi\",\"Cristiano Ronaldo\",\"Neymar Junior\",\"Kylian Mbappe\",\"Manuel Neuer\"]"
   ]
  },
  {
   "cell_type": "code",
   "execution_count": 3,
   "metadata": {},
   "outputs": [],
   "source": [
    "nationality = [\"Argentina\", \"Portugal\",\"Brasil\",\"France\",\"Germany\"]"
   ]
  },
  {
   "cell_type": "code",
   "execution_count": 4,
   "metadata": {},
   "outputs": [],
   "source": [
    "club = [\"FC Barcelona\",\"Juventus FC\",\"Paris SG\",\"Paris SG\",\"FC Bayern\"]"
   ]
  },
  {
   "cell_type": "code",
   "execution_count": 5,
   "metadata": {},
   "outputs": [],
   "source": [
    "world_champion = [False, False, False, True, True]"
   ]
  },
  {
   "cell_type": "code",
   "execution_count": 6,
   "metadata": {},
   "outputs": [],
   "source": [
    "height = [1.70, 1.87,1.75,1.78,1.93]"
   ]
  },
  {
   "cell_type": "code",
   "execution_count": 9,
   "metadata": {},
   "outputs": [],
   "source": [
    "goals = [45,44,28,21,0]"
   ]
  },
  {
   "cell_type": "code",
   "execution_count": 10,
   "metadata": {},
   "outputs": [],
   "source": [
    "dic = {\"Player\":player, \"Nationality\":nationality, \"Club\":club, \"World_Champion\":world_champion, \"Height\":height, \"Goals_2018\":goals}"
   ]
  },
  {
   "cell_type": "code",
   "execution_count": 11,
   "metadata": {},
   "outputs": [
    {
     "data": {
      "text/plain": [
       "{'Player': ['Lionel Messi',\n",
       "  'Cristiano Ronaldo',\n",
       "  'Neymar Junior',\n",
       "  'Kylian Mbappe',\n",
       "  'Manuel Neuer'],\n",
       " 'Nationality': ['Argentina', 'Portugal', 'Brasil', 'France', 'Germany'],\n",
       " 'Club': ['FC Barcelona', 'Juventus FC', 'Paris SG', 'Paris SG', 'FC Bayern'],\n",
       " 'World_Champion': [False, False, False, True, True],\n",
       " 'Height': [1.7, 1.87, 1.75, 1.78, 1.93],\n",
       " 'Goals_2018': [45, 44, 28, 21, 0]}"
      ]
     },
     "execution_count": 11,
     "metadata": {},
     "output_type": "execute_result"
    }
   ],
   "source": [
    "dic"
   ]
  },
  {
   "cell_type": "code",
   "execution_count": 12,
   "metadata": {},
   "outputs": [
    {
     "data": {
      "text/html": [
       "<div>\n",
       "<style scoped>\n",
       "    .dataframe tbody tr th:only-of-type {\n",
       "        vertical-align: middle;\n",
       "    }\n",
       "\n",
       "    .dataframe tbody tr th {\n",
       "        vertical-align: top;\n",
       "    }\n",
       "\n",
       "    .dataframe thead th {\n",
       "        text-align: right;\n",
       "    }\n",
       "</style>\n",
       "<table border=\"1\" class=\"dataframe\">\n",
       "  <thead>\n",
       "    <tr style=\"text-align: right;\">\n",
       "      <th></th>\n",
       "      <th>Player</th>\n",
       "      <th>Nationality</th>\n",
       "      <th>Club</th>\n",
       "      <th>World_Champion</th>\n",
       "      <th>Height</th>\n",
       "      <th>Goals_2018</th>\n",
       "    </tr>\n",
       "  </thead>\n",
       "  <tbody>\n",
       "    <tr>\n",
       "      <th>0</th>\n",
       "      <td>Lionel Messi</td>\n",
       "      <td>Argentina</td>\n",
       "      <td>FC Barcelona</td>\n",
       "      <td>False</td>\n",
       "      <td>1.70</td>\n",
       "      <td>45</td>\n",
       "    </tr>\n",
       "    <tr>\n",
       "      <th>1</th>\n",
       "      <td>Cristiano Ronaldo</td>\n",
       "      <td>Portugal</td>\n",
       "      <td>Juventus FC</td>\n",
       "      <td>False</td>\n",
       "      <td>1.87</td>\n",
       "      <td>44</td>\n",
       "    </tr>\n",
       "    <tr>\n",
       "      <th>2</th>\n",
       "      <td>Neymar Junior</td>\n",
       "      <td>Brasil</td>\n",
       "      <td>Paris SG</td>\n",
       "      <td>False</td>\n",
       "      <td>1.75</td>\n",
       "      <td>28</td>\n",
       "    </tr>\n",
       "    <tr>\n",
       "      <th>3</th>\n",
       "      <td>Kylian Mbappe</td>\n",
       "      <td>France</td>\n",
       "      <td>Paris SG</td>\n",
       "      <td>True</td>\n",
       "      <td>1.78</td>\n",
       "      <td>21</td>\n",
       "    </tr>\n",
       "    <tr>\n",
       "      <th>4</th>\n",
       "      <td>Manuel Neuer</td>\n",
       "      <td>Germany</td>\n",
       "      <td>FC Bayern</td>\n",
       "      <td>True</td>\n",
       "      <td>1.93</td>\n",
       "      <td>0</td>\n",
       "    </tr>\n",
       "  </tbody>\n",
       "</table>\n",
       "</div>"
      ],
      "text/plain": [
       "              Player Nationality          Club  World_Champion  Height  \\\n",
       "0       Lionel Messi   Argentina  FC Barcelona           False    1.70   \n",
       "1  Cristiano Ronaldo    Portugal   Juventus FC           False    1.87   \n",
       "2      Neymar Junior      Brasil      Paris SG           False    1.75   \n",
       "3      Kylian Mbappe      France      Paris SG            True    1.78   \n",
       "4       Manuel Neuer     Germany     FC Bayern            True    1.93   \n",
       "\n",
       "   Goals_2018  \n",
       "0          45  \n",
       "1          44  \n",
       "2          28  \n",
       "3          21  \n",
       "4           0  "
      ]
     },
     "execution_count": 12,
     "metadata": {},
     "output_type": "execute_result"
    }
   ],
   "source": [
    "df = pd.DataFrame(data = dic)\n",
    "df.head()"
   ]
  },
  {
   "cell_type": "code",
   "execution_count": 13,
   "metadata": {},
   "outputs": [
    {
     "data": {
      "text/html": [
       "<div>\n",
       "<style scoped>\n",
       "    .dataframe tbody tr th:only-of-type {\n",
       "        vertical-align: middle;\n",
       "    }\n",
       "\n",
       "    .dataframe tbody tr th {\n",
       "        vertical-align: top;\n",
       "    }\n",
       "\n",
       "    .dataframe thead th {\n",
       "        text-align: right;\n",
       "    }\n",
       "</style>\n",
       "<table border=\"1\" class=\"dataframe\">\n",
       "  <thead>\n",
       "    <tr style=\"text-align: right;\">\n",
       "      <th></th>\n",
       "      <th>Nationality</th>\n",
       "      <th>Club</th>\n",
       "      <th>World_Champion</th>\n",
       "      <th>Height</th>\n",
       "      <th>Goals_2018</th>\n",
       "    </tr>\n",
       "    <tr>\n",
       "      <th>Player</th>\n",
       "      <th></th>\n",
       "      <th></th>\n",
       "      <th></th>\n",
       "      <th></th>\n",
       "      <th></th>\n",
       "    </tr>\n",
       "  </thead>\n",
       "  <tbody>\n",
       "    <tr>\n",
       "      <th>Lionel Messi</th>\n",
       "      <td>Argentina</td>\n",
       "      <td>FC Barcelona</td>\n",
       "      <td>False</td>\n",
       "      <td>1.70</td>\n",
       "      <td>45</td>\n",
       "    </tr>\n",
       "    <tr>\n",
       "      <th>Cristiano Ronaldo</th>\n",
       "      <td>Portugal</td>\n",
       "      <td>Juventus FC</td>\n",
       "      <td>False</td>\n",
       "      <td>1.87</td>\n",
       "      <td>44</td>\n",
       "    </tr>\n",
       "    <tr>\n",
       "      <th>Neymar Junior</th>\n",
       "      <td>Brasil</td>\n",
       "      <td>Paris SG</td>\n",
       "      <td>False</td>\n",
       "      <td>1.75</td>\n",
       "      <td>28</td>\n",
       "    </tr>\n",
       "    <tr>\n",
       "      <th>Kylian Mbappe</th>\n",
       "      <td>France</td>\n",
       "      <td>Paris SG</td>\n",
       "      <td>True</td>\n",
       "      <td>1.78</td>\n",
       "      <td>21</td>\n",
       "    </tr>\n",
       "    <tr>\n",
       "      <th>Manuel Neuer</th>\n",
       "      <td>Germany</td>\n",
       "      <td>FC Bayern</td>\n",
       "      <td>True</td>\n",
       "      <td>1.93</td>\n",
       "      <td>0</td>\n",
       "    </tr>\n",
       "  </tbody>\n",
       "</table>\n",
       "</div>"
      ],
      "text/plain": [
       "                  Nationality          Club  World_Champion  Height  \\\n",
       "Player                                                                \n",
       "Lionel Messi        Argentina  FC Barcelona           False    1.70   \n",
       "Cristiano Ronaldo    Portugal   Juventus FC           False    1.87   \n",
       "Neymar Junior          Brasil      Paris SG           False    1.75   \n",
       "Kylian Mbappe          France      Paris SG            True    1.78   \n",
       "Manuel Neuer          Germany     FC Bayern            True    1.93   \n",
       "\n",
       "                   Goals_2018  \n",
       "Player                         \n",
       "Lionel Messi               45  \n",
       "Cristiano Ronaldo          44  \n",
       "Neymar Junior              28  \n",
       "Kylian Mbappe              21  \n",
       "Manuel Neuer                0  "
      ]
     },
     "execution_count": 13,
     "metadata": {},
     "output_type": "execute_result"
    }
   ],
   "source": [
    "player = df.set_index(\"Player\")\n",
    "player"
   ]
  },
  {
   "cell_type": "markdown",
   "metadata": {},
   "source": [
    "# Having rows in place"
   ]
  },
  {
   "cell_type": "code",
   "execution_count": 15,
   "metadata": {},
   "outputs": [
    {
     "data": {
      "text/plain": [
       "[('Argentina', 'FC Barcelona', False, 1.7, 45),\n",
       " ('Portugal', 'Juventus FC', False, 1.87, 44),\n",
       " ('Brasil', 'Paris SG', False, 1.75, 28),\n",
       " ('France', 'Paris SG', True, 1.78, 21),\n",
       " ('Germany', 'FC Bayern', True, 1.93, 0)]"
      ]
     },
     "execution_count": 15,
     "metadata": {},
     "output_type": "execute_result"
    }
   ],
   "source": [
    "list(zip(nationality,club,world_champion,height,goals))"
   ]
  },
  {
   "cell_type": "code",
   "execution_count": 17,
   "metadata": {},
   "outputs": [],
   "source": [
    "zipped = list(zip(nationality,club,world_champion,height,goals))"
   ]
  },
  {
   "cell_type": "code",
   "execution_count": 21,
   "metadata": {},
   "outputs": [],
   "source": [
    "messi, ronaldo, neymar, mbappe, neuer = zipped"
   ]
  },
  {
   "cell_type": "code",
   "execution_count": 22,
   "metadata": {},
   "outputs": [
    {
     "data": {
      "text/plain": [
       "('Argentina', 'FC Barcelona', False, 1.7, 45)"
      ]
     },
     "execution_count": 22,
     "metadata": {},
     "output_type": "execute_result"
    }
   ],
   "source": [
    "messi"
   ]
  },
  {
   "cell_type": "code",
   "execution_count": 23,
   "metadata": {},
   "outputs": [
    {
     "data": {
      "text/plain": [
       "('Portugal', 'Juventus FC', False, 1.87, 44)"
      ]
     },
     "execution_count": 23,
     "metadata": {},
     "output_type": "execute_result"
    }
   ],
   "source": [
    "ronaldo"
   ]
  },
  {
   "cell_type": "code",
   "execution_count": 24,
   "metadata": {},
   "outputs": [],
   "source": [
    "df = pd.DataFrame(data=[messi, ronaldo, neymar, mbappe, neuer], \n",
    "                  index=[\"Lionel Messi\",\"Cristiano Ronaldo\",\"Neymar Junior\",\"Kylian Mbappe\",\"Manuel Neuer\"],\n",
    "                 columns=[\"Nationality\",\"Club\",\"World_Champion\",\"Height\",\"Goals_2018\"])"
   ]
  },
  {
   "cell_type": "code",
   "execution_count": 25,
   "metadata": {},
   "outputs": [
    {
     "data": {
      "text/html": [
       "<div>\n",
       "<style scoped>\n",
       "    .dataframe tbody tr th:only-of-type {\n",
       "        vertical-align: middle;\n",
       "    }\n",
       "\n",
       "    .dataframe tbody tr th {\n",
       "        vertical-align: top;\n",
       "    }\n",
       "\n",
       "    .dataframe thead th {\n",
       "        text-align: right;\n",
       "    }\n",
       "</style>\n",
       "<table border=\"1\" class=\"dataframe\">\n",
       "  <thead>\n",
       "    <tr style=\"text-align: right;\">\n",
       "      <th></th>\n",
       "      <th>Nationality</th>\n",
       "      <th>Club</th>\n",
       "      <th>World_Champion</th>\n",
       "      <th>Height</th>\n",
       "      <th>Goals_2018</th>\n",
       "    </tr>\n",
       "  </thead>\n",
       "  <tbody>\n",
       "    <tr>\n",
       "      <th>Lionel Messi</th>\n",
       "      <td>Argentina</td>\n",
       "      <td>FC Barcelona</td>\n",
       "      <td>False</td>\n",
       "      <td>1.70</td>\n",
       "      <td>45</td>\n",
       "    </tr>\n",
       "    <tr>\n",
       "      <th>Cristiano Ronaldo</th>\n",
       "      <td>Portugal</td>\n",
       "      <td>Juventus FC</td>\n",
       "      <td>False</td>\n",
       "      <td>1.87</td>\n",
       "      <td>44</td>\n",
       "    </tr>\n",
       "    <tr>\n",
       "      <th>Neymar Junior</th>\n",
       "      <td>Brasil</td>\n",
       "      <td>Paris SG</td>\n",
       "      <td>False</td>\n",
       "      <td>1.75</td>\n",
       "      <td>28</td>\n",
       "    </tr>\n",
       "    <tr>\n",
       "      <th>Kylian Mbappe</th>\n",
       "      <td>France</td>\n",
       "      <td>Paris SG</td>\n",
       "      <td>True</td>\n",
       "      <td>1.78</td>\n",
       "      <td>21</td>\n",
       "    </tr>\n",
       "    <tr>\n",
       "      <th>Manuel Neuer</th>\n",
       "      <td>Germany</td>\n",
       "      <td>FC Bayern</td>\n",
       "      <td>True</td>\n",
       "      <td>1.93</td>\n",
       "      <td>0</td>\n",
       "    </tr>\n",
       "  </tbody>\n",
       "</table>\n",
       "</div>"
      ],
      "text/plain": [
       "                  Nationality          Club  World_Champion  Height  \\\n",
       "Lionel Messi        Argentina  FC Barcelona           False    1.70   \n",
       "Cristiano Ronaldo    Portugal   Juventus FC           False    1.87   \n",
       "Neymar Junior          Brasil      Paris SG           False    1.75   \n",
       "Kylian Mbappe          France      Paris SG            True    1.78   \n",
       "Manuel Neuer          Germany     FC Bayern            True    1.93   \n",
       "\n",
       "                   Goals_2018  \n",
       "Lionel Messi               45  \n",
       "Cristiano Ronaldo          44  \n",
       "Neymar Junior              28  \n",
       "Kylian Mbappe              21  \n",
       "Manuel Neuer                0  "
      ]
     },
     "execution_count": 25,
     "metadata": {},
     "output_type": "execute_result"
    }
   ],
   "source": [
    "df"
   ]
  },
  {
   "cell_type": "code",
   "execution_count": 26,
   "metadata": {},
   "outputs": [
    {
     "data": {
      "text/plain": [
       "(Argentina, FC Barcelona, False, 1.7, 45)    Argentina\n",
       "(Portugal, Juventus FC, False, 1.87, 44)      Portugal\n",
       "(Brasil, Paris SG, False, 1.75, 28)             Brasil\n",
       "(France, Paris SG, True, 1.78, 21)              France\n",
       "(Germany, FC Bayern, True, 1.93, 0)            Germany\n",
       "Name: Nationality, dtype: object"
      ]
     },
     "execution_count": 26,
     "metadata": {},
     "output_type": "execute_result"
    }
   ],
   "source": [
    "df2 = pd.Series(index=player, data=nationality, name=\"Nationality\")\n",
    "df2"
   ]
  },
  {
   "cell_type": "code",
   "execution_count": 27,
   "metadata": {},
   "outputs": [
    {
     "data": {
      "text/html": [
       "<div>\n",
       "<style scoped>\n",
       "    .dataframe tbody tr th:only-of-type {\n",
       "        vertical-align: middle;\n",
       "    }\n",
       "\n",
       "    .dataframe tbody tr th {\n",
       "        vertical-align: top;\n",
       "    }\n",
       "\n",
       "    .dataframe thead th {\n",
       "        text-align: right;\n",
       "    }\n",
       "</style>\n",
       "<table border=\"1\" class=\"dataframe\">\n",
       "  <thead>\n",
       "    <tr style=\"text-align: right;\">\n",
       "      <th></th>\n",
       "      <th>Nationality</th>\n",
       "    </tr>\n",
       "  </thead>\n",
       "  <tbody>\n",
       "    <tr>\n",
       "      <th>(Argentina, FC Barcelona, False, 1.7, 45)</th>\n",
       "      <td>Argentina</td>\n",
       "    </tr>\n",
       "    <tr>\n",
       "      <th>(Portugal, Juventus FC, False, 1.87, 44)</th>\n",
       "      <td>Portugal</td>\n",
       "    </tr>\n",
       "    <tr>\n",
       "      <th>(Brasil, Paris SG, False, 1.75, 28)</th>\n",
       "      <td>Brasil</td>\n",
       "    </tr>\n",
       "    <tr>\n",
       "      <th>(France, Paris SG, True, 1.78, 21)</th>\n",
       "      <td>France</td>\n",
       "    </tr>\n",
       "    <tr>\n",
       "      <th>(Germany, FC Bayern, True, 1.93, 0)</th>\n",
       "      <td>Germany</td>\n",
       "    </tr>\n",
       "  </tbody>\n",
       "</table>\n",
       "</div>"
      ],
      "text/plain": [
       "                                          Nationality\n",
       "(Argentina, FC Barcelona, False, 1.7, 45)   Argentina\n",
       "(Portugal, Juventus FC, False, 1.87, 44)     Portugal\n",
       "(Brasil, Paris SG, False, 1.75, 28)            Brasil\n",
       "(France, Paris SG, True, 1.78, 21)             France\n",
       "(Germany, FC Bayern, True, 1.93, 0)           Germany"
      ]
     },
     "execution_count": 27,
     "metadata": {},
     "output_type": "execute_result"
    }
   ],
   "source": [
    "df2 = pd.Series(index=player, data=nationality, name=\"Nationality\").to_frame()\n",
    "df2"
   ]
  },
  {
   "cell_type": "code",
   "execution_count": 29,
   "metadata": {},
   "outputs": [
    {
     "data": {
      "text/html": [
       "<div>\n",
       "<style scoped>\n",
       "    .dataframe tbody tr th:only-of-type {\n",
       "        vertical-align: middle;\n",
       "    }\n",
       "\n",
       "    .dataframe tbody tr th {\n",
       "        vertical-align: top;\n",
       "    }\n",
       "\n",
       "    .dataframe thead th {\n",
       "        text-align: right;\n",
       "    }\n",
       "</style>\n",
       "<table border=\"1\" class=\"dataframe\">\n",
       "  <thead>\n",
       "    <tr style=\"text-align: right;\">\n",
       "      <th></th>\n",
       "      <th>Nationality</th>\n",
       "      <th>club</th>\n",
       "    </tr>\n",
       "  </thead>\n",
       "  <tbody>\n",
       "    <tr>\n",
       "      <th>(Argentina, FC Barcelona, False, 1.7, 45)</th>\n",
       "      <td>Argentina</td>\n",
       "      <td>FC Barcelona</td>\n",
       "    </tr>\n",
       "    <tr>\n",
       "      <th>(Portugal, Juventus FC, False, 1.87, 44)</th>\n",
       "      <td>Portugal</td>\n",
       "      <td>Juventus FC</td>\n",
       "    </tr>\n",
       "    <tr>\n",
       "      <th>(Brasil, Paris SG, False, 1.75, 28)</th>\n",
       "      <td>Brasil</td>\n",
       "      <td>Paris SG</td>\n",
       "    </tr>\n",
       "    <tr>\n",
       "      <th>(France, Paris SG, True, 1.78, 21)</th>\n",
       "      <td>France</td>\n",
       "      <td>Paris SG</td>\n",
       "    </tr>\n",
       "    <tr>\n",
       "      <th>(Germany, FC Bayern, True, 1.93, 0)</th>\n",
       "      <td>Germany</td>\n",
       "      <td>FC Bayern</td>\n",
       "    </tr>\n",
       "  </tbody>\n",
       "</table>\n",
       "</div>"
      ],
      "text/plain": [
       "                                          Nationality          club\n",
       "(Argentina, FC Barcelona, False, 1.7, 45)   Argentina  FC Barcelona\n",
       "(Portugal, Juventus FC, False, 1.87, 44)     Portugal   Juventus FC\n",
       "(Brasil, Paris SG, False, 1.75, 28)            Brasil      Paris SG\n",
       "(France, Paris SG, True, 1.78, 21)             France      Paris SG\n",
       "(Germany, FC Bayern, True, 1.93, 0)           Germany     FC Bayern"
      ]
     },
     "execution_count": 29,
     "metadata": {},
     "output_type": "execute_result"
    }
   ],
   "source": [
    "df2[\"club\"]=club\n",
    "df2"
   ]
  },
  {
   "cell_type": "code",
   "execution_count": null,
   "metadata": {},
   "outputs": [],
   "source": []
  }
 ],
 "metadata": {
  "kernelspec": {
   "display_name": "Python 3",
   "language": "python",
   "name": "python3"
  },
  "language_info": {
   "codemirror_mode": {
    "name": "ipython",
    "version": 3
   },
   "file_extension": ".py",
   "mimetype": "text/x-python",
   "name": "python",
   "nbconvert_exporter": "python",
   "pygments_lexer": "ipython3",
   "version": "3.8.5"
  }
 },
 "nbformat": 4,
 "nbformat_minor": 4
}
